{
 "cells": [
  {
   "cell_type": "markdown",
   "metadata": {},
   "source": [
    "### Part 1 - Set Up"
   ]
  },
  {
   "cell_type": "code",
   "execution_count": 1,
   "metadata": {},
   "outputs": [],
   "source": [
    "# relevant packages & modules\n",
    "from selenium import webdriver\n",
    "from selenium.webdriver.common.keys import Keys\n",
    "from selenium.webdriver.common.by import By\n",
    "from selenium.webdriver.chrome.options import Options\n",
    "from selenium.webdriver.support.ui import WebDriverWait\n",
    "from selenium.webdriver.support import expected_conditions as EC\n",
    "import time\n",
    "import json\n",
    "import nltk\n",
    "from nltk.sentiment.vader import SentimentIntensityAnalyzer\n",
    "import matplotlib.pyplot as plt\n"
   ]
  },
  {
   "cell_type": "code",
   "execution_count": 2,
   "metadata": {},
   "outputs": [],
   "source": [
    "# relevant websites\n",
    "rest_reviews_dynamic = 'https://www.tripadvisor.in/'"
   ]
  },
  {
   "cell_type": "markdown",
   "metadata": {},
   "source": [
    "# Dynamic Scraping\n",
    "The user will input the restaurant name"
   ]
  },
  {
   "cell_type": "code",
   "execution_count": 3,
   "metadata": {},
   "outputs": [
    {
     "name": "stdout",
     "output_type": "stream",
     "text": [
      "Please type the Restaurant name\n",
      "The Royal Afghan\n"
     ]
    }
   ],
   "source": [
    "# Getting Restaurant name\n",
    "print(\"Please type the Restaurant name\")\n",
    "rest_name = input()"
   ]
  },
  {
   "cell_type": "code",
   "execution_count": 4,
   "metadata": {},
   "outputs": [
    {
     "name": "stdout",
     "output_type": "stream",
     "text": [
      "The Royal Afghan\n"
     ]
    }
   ],
   "source": [
    "print(rest_name)"
   ]
  },
  {
   "cell_type": "code",
   "execution_count": 5,
   "metadata": {},
   "outputs": [
    {
     "name": "stderr",
     "output_type": "stream",
     "text": [
      "<ipython-input-5-61721080edae>:1: DeprecationWarning: executable_path has been deprecated, please pass in a Service object\n",
      "  driver = webdriver.Chrome('C:\\webdrivers\\chromedriver.exe')\n",
      "<ipython-input-5-61721080edae>:6: DeprecationWarning: find_elements_by_* commands are deprecated. Please use find_elements() instead\n",
      "  search = driver.find_elements_by_xpath(\"//form//input[@type='search']\")\n",
      "<ipython-input-5-61721080edae>:16: DeprecationWarning: find_elements_by_* commands are deprecated. Please use find_elements() instead\n",
      "  list_rest_names = driver.find_elements_by_xpath(\"//a[@class='bPaPP w z _S _F Wc Wh Q B- _G']\")\n",
      "<ipython-input-5-61721080edae>:25: DeprecationWarning: find_elements_by_* commands are deprecated. Please use find_elements() instead\n",
      "  reviews = driver.find_elements_by_xpath('//p[@class=\"partial_entry\"]')\n"
     ]
    },
    {
     "name": "stdout",
     "output_type": "stream",
     "text": [
      "17\n",
      "So we came here on my birthday. We had a such great time. We came with 9 month old and they were so kind of accommodate everything for us. The food was delicious and the service was awesome. Ankit was a great help. We would...More\n",
      "We thoroughly enjoyed the food. the kababs and naan were delicious. we were presently surprised when they gave cake to my daughter for her birthday. it was a very nice experience. very courteous staff and hygienic environment! Naveen was very courteous and helpful. Rajiv\n",
      "Fantastic experience @ the royal Afghan Bangalore…excellent food, wonderful hospitality. A treat worth remembering.\n",
      "Best place to have authentic frontier food. Clean place, courteous staff made us feel comfortable particularly in this trying timesMore\n",
      "Dear Guest, Thank you for taking the time out to share your feedback with us. Royal Afghan is the popular poolside barbecue restaurant that serves a unique cuisine from the rugged Indian North-West frontier, with the rustic charm of the traditional clay tandoor. The fare...More\n",
      "Brilliant experience. Ankit took great care of us and added to whole experience. Best place for North Indian food in town.More\n",
      "Dear Guest, We appreciate the time taken to share your feedback. The Royal Afghan is the city’s premier award-winning restaurant that has stood like a sentinel across over three and a half decades, and achieved renown for an unwavering dedication to its unique Northwest Frontier...More\n",
      "We loved just loved the food!. The butter garlic naan was just awesome. All the dishes that we tried were great (paneer makhani, sheekh kabab and rasmalai). Don't miss the Dal Bukhara - Royal Afgan's signature dish! Special mention to Ankit, who made our time...More\n",
      "Dear Guest, Thank you for taking the time out to share your feedback with us. The Royal Afghan is indeed one of our most prized restaurants and is a popular destination for a true North West Frontier Cuisine. The culinary fare here is known for...More\n",
      "Awesome service and food as always ! Can never go wrong with this restaurant ! Murthy and Ankit were very kind and helpful ! Had a great time !More\n",
      "Dear Guest, Thank you for taking the time out to share your feedback with us. Royal Afghan is the popular poolside barbecue restaurant that serves a unique cuisine from the rugged Indian North-West frontier, with the rustic charm of the traditional clay tandoor. The fare...More\n",
      "Been to this restaurant so many times. We like the sikandari raan and dal Bukhara very much. It is the best North West Frontier Food in the city. Highly recommended.More\n",
      "Dear Guest, We appreciate the time taken to share your feedback. The Royal Afghan is the city’s premier award-winning restaurant that has stood like a sentinel across over three and a half decades, and achieved renown for an unwavering dedication to its unique Northwest Frontier...More\n",
      "Lovely ambience , brilliant service and out of this world food ! Worthy of a visit for a special occasionMore\n",
      "Dear Guest, We appreciate the time taken to share your feedback. The Royal Afghan is the city’s premier award-winning restaurant that has stood like a sentinel across over three and a half decades, and achieved renown for an unwavering dedication to its unique Northwest Frontier...More\n",
      "The very best of Tandoori food in Bangalore. I come with my family often and I have to say each time, it is a memory second to none. Kudos to Murthy and the team. Food and hospitality are the best hereMore\n",
      "Dear Guest, Thank you for taking the time out to share your feedback with us. Royal Afghan is the popular poolside barbecue restaurant that serves a unique cuisine from the rugged Indian North-West frontier, with the rustic charm of the traditional clay tandoor. The fare...More\n"
     ]
    }
   ],
   "source": [
    "driver = webdriver.Chrome('C:\\webdrivers\\chromedriver.exe')\n",
    "driver.get(rest_reviews_dynamic)\n",
    "driver.maximize_window()\n",
    "time.sleep(10)\n",
    "\n",
    "search = driver.find_elements_by_xpath(\"//form//input[@type='search']\")\n",
    "\n",
    "#click\n",
    "search[1].click()\n",
    "time.sleep(1)\n",
    "search[1].send_keys(rest_name)\n",
    "\n",
    "\n",
    "# Logic to select our required Restaurant\n",
    "# For the time being we will always choose the first name in the list that pops and will assume the Restuarant is in Bangalore\n",
    "list_rest_names = driver.find_elements_by_xpath(\"//a[@class='bPaPP w z _S _F Wc Wh Q B- _G']\")\n",
    "\n",
    "time.sleep(3)\n",
    "list_rest_names[0].click()\n",
    "\n",
    "time.sleep(5)\n",
    "\n",
    "# Logic to scrap reviews\n",
    "\n",
    "reviews = driver.find_elements_by_xpath('//p[@class=\"partial_entry\"]')\n",
    "print(len(reviews))\n",
    "for r in reviews:\n",
    "   print(r.text) "
   ]
  },
  {
   "cell_type": "code",
   "execution_count": 6,
   "metadata": {},
   "outputs": [
    {
     "name": "stderr",
     "output_type": "stream",
     "text": [
      "[nltk_data] Downloading package vader_lexicon to\n",
      "[nltk_data]     C:\\Users\\Anuj\\AppData\\Roaming\\nltk_data...\n",
      "[nltk_data]   Package vader_lexicon is already up-to-date!\n"
     ]
    }
   ],
   "source": [
    "nltk.download('vader_lexicon')\n",
    "sia = SentimentIntensityAnalyzer()"
   ]
  },
  {
   "cell_type": "code",
   "execution_count": 7,
   "metadata": {},
   "outputs": [
    {
     "data": {
      "text/plain": [
       "[0.9623,\n",
       " 0.9713,\n",
       " 0.8979,\n",
       " 0.926,\n",
       " 0.8957,\n",
       " 0.946,\n",
       " 0.8402,\n",
       " 0.9671,\n",
       " 0.9392,\n",
       " 0.9622,\n",
       " 0.8957,\n",
       " 0.7717,\n",
       " 0.8402,\n",
       " 0.9259,\n",
       " 0.8402,\n",
       " 0.8065,\n",
       " 0.8957]"
      ]
     },
     "execution_count": 7,
     "metadata": {},
     "output_type": "execute_result"
    }
   ],
   "source": [
    "sentiments = [sia.polarity_scores(r.text)['compound'] for r in reviews]\n",
    "sentiments"
   ]
  },
  {
   "cell_type": "code",
   "execution_count": 8,
   "metadata": {},
   "outputs": [
    {
     "data": {
      "text/plain": [
       "Text(0.5, 1.0, 'The Royal Afghan Reviews')"
      ]
     },
     "execution_count": 8,
     "metadata": {},
     "output_type": "execute_result"
    },
    {
     "data": {
      "image/png": "[encoded data removed]",
      "text/plain": [
       "<Figure size 432x288 with 1 Axes>"
      ]
     },
     "metadata": {
      "needs_background": "light"
     },
     "output_type": "display_data"
    }
   ],
   "source": [
    "# Plotting the sentiments\n",
    "title = rest_name + \" \" + \"Reviews\"\n",
    "a = plt.subplot2grid((7, 4), (1, 0), rowspan = 6, colspan = 4)\n",
    "\n",
    "a.clear() \n",
    "a.plot(sentiments)\n",
    "\n",
    "a.set_title(title, fontsize = 10)   "
   ]
  },
  {
   "cell_type": "code",
   "execution_count": null,
   "metadata": {},
   "outputs": [],
   "source": []
  },
  {
   "cell_type": "code",
   "execution_count": null,
   "metadata": {},
   "outputs": [],
   "source": []
  },
  {
   "cell_type": "code",
   "execution_count": null,
   "metadata": {},
   "outputs": [],
   "source": []
  },
  {
   "cell_type": "code",
   "execution_count": null,
   "metadata": {},
   "outputs": [],
   "source": []
  },
  {
   "cell_type": "code",
   "execution_count": null,
   "metadata": {},
   "outputs": [],
   "source": []
  },
  {
   "cell_type": "code",
   "execution_count": null,
   "metadata": {},
   "outputs": [],
   "source": []
  },
  {
   "cell_type": "code",
   "execution_count": null,
   "metadata": {},
   "outputs": [],
   "source": []
  },
  {
   "cell_type": "code",
   "execution_count": null,
   "metadata": {},
   "outputs": [],
   "source": []
  },
  {
   "cell_type": "code",
   "execution_count": null,
   "metadata": {},
   "outputs": [],
   "source": []
  },
  {
   "cell_type": "code",
   "execution_count": null,
   "metadata": {},
   "outputs": [],
   "source": []
  },
  {
   "cell_type": "code",
   "execution_count": null,
   "metadata": {},
   "outputs": [],
   "source": []
  },
  {
   "cell_type": "code",
   "execution_count": null,
   "metadata": {},
   "outputs": [],
   "source": []
  },
  {
   "cell_type": "code",
   "execution_count": null,
   "metadata": {},
   "outputs": [],
   "source": []
  },
  {
   "cell_type": "code",
   "execution_count": null,
   "metadata": {},
   "outputs": [],
   "source": []
  },
  {
   "cell_type": "code",
   "execution_count": null,
   "metadata": {},
   "outputs": [],
   "source": []
  },
  {
   "cell_type": "code",
   "execution_count": null,
   "metadata": {},
   "outputs": [],
   "source": []
  },
  {
   "cell_type": "code",
   "execution_count": null,
   "metadata": {},
   "outputs": [],
   "source": []
  }
 ],
 "metadata": {
  "kernelspec": {
   "display_name": "Python 3",
   "language": "python",
   "name": "python3"
  },
  "language_info": {
   "codemirror_mode": {
    "name": "ipython",
    "version": 3
   },
   "file_extension": ".py",
   "mimetype": "text/x-python",
   "name": "python",
   "nbconvert_exporter": "python",
   "pygments_lexer": "ipython3",
   "version": "3.8.3"
  }
 },
 "nbformat": 4,
 "nbformat_minor": 4
}
